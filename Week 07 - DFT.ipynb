{
 "cells": [
  {
   "cell_type": "code",
   "execution_count": null,
   "metadata": {
    "scrolled": false
   },
   "outputs": [],
   "source": [
    "import time\n",
    "import scipy.special\n",
    "import numpy as np\n",
    "import matplotlib.pyplot as plt\n",
    "from pyscf import gto, scf, fci, dft\n",
    "\n",
    "# set the basis\n",
    "basis = '6-31G'\n",
    "\n",
    "# define molecule parameters: H2\n",
    "bond_length = 0.702\n",
    "geometry = 'H 0 0 {}; H 0 0 {}'\n",
    "spin = 0\n",
    "\n",
    "# build the molecule and set the verbosity level\n",
    "mol = gto.M(atom    = geometry.format(-0.5 * bond_length, 0.5 * bond_length),\n",
    "            basis   = basis,\n",
    "            spin    = spin,\n",
    "            verbose = 0)\n",
    "\n",
    "# run the HF calculations\n",
    "hf_calc = scf.UHF(mol)\n",
    "res = hf_calc.scf()\n",
    "print('{:32s}: {:.4f} Ha'.format('HF energy', res))\n",
    "\n",
    "# run the FCI calculations\n",
    "hf_calc = scf.RHF(mol) # we cheat a bit here because the pyscf CI solver only accepts RHF\n",
    "hf_calc.kernel()\n",
    "ci_calc = fci.FCI(mol, hf_calc.mo_coeff)\n",
    "res = ci_calc.kernel()\n",
    "res = res[0] # extract the ground state energy\n",
    "print('{:32s}: {:.4f} Ha'.format('Full CI energy', res))\n",
    "\n",
    "#run DFT calculations\n",
    "for functional in ['LDA', 'PBE', 'HSE06', 'BLYP', 'B3LYP']:\n",
    "    dft_calc = dft.KS(mol)\n",
    "    dft_calc.xc = functional\n",
    "    res = dft_calc.kernel()\n",
    "    print('{:32s}: {:.4f} Ha'.format('{} energy'.format(functional), res))"
   ]
  }
 ],
 "metadata": {
  "kernelspec": {
   "display_name": "Python 3",
   "language": "python",
   "name": "python3"
  },
  "language_info": {
   "codemirror_mode": {
    "name": "ipython",
    "version": 3
   },
   "file_extension": ".py",
   "mimetype": "text/x-python",
   "name": "python",
   "nbconvert_exporter": "python",
   "pygments_lexer": "ipython3",
   "version": "3.7.4"
  }
 },
 "nbformat": 4,
 "nbformat_minor": 2
}
