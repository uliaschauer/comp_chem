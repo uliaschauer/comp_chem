{
 "cells": [
  {
   "cell_type": "code",
   "execution_count": 2,
   "metadata": {
    "scrolled": false
   },
   "outputs": [
    {
     "name": "stdout",
     "output_type": "stream",
     "text": [
      "HF energy                       : -1.1262 Ha (0.04 seconds)\n",
      "Full CI energy                  : -1.1503 Ha (0.03 seconds)\n",
      "LDA energy                      : -1.0355 Ha (0.06 seconds)\n",
      "PBE energy                      : -1.1603 Ha (0.07 seconds)\n",
      "HSE06 energy                    : -1.1629 Ha (0.21 seconds)\n",
      "BLYP energy                     : -1.1637 Ha (0.07 seconds)\n",
      "B3LYP energy                    : -1.1675 Ha (0.08 seconds)\n"
     ]
    }
   ],
   "source": [
    "import time\n",
    "import scipy.special\n",
    "import numpy as np\n",
    "import matplotlib.pyplot as plt\n",
    "from pyscf import gto, scf, fci, dft\n",
    "\n",
    "# set the basis\n",
    "basis = '6-31G'\n",
    "\n",
    "# define molecule parameters: H2\n",
    "bond_length = 0.702\n",
    "geometry = 'H 0 0 {}; H 0 0 {}'\n",
    "spin = 0\n",
    "\n",
    "# geometry = '''\n",
    "# C          1.13569        2.22607        0.00008\n",
    "# C          2.34660        1.48225       -0.00315\n",
    "# O          1.11076        3.45322        0.00297\n",
    "# N          0.00000        1.41087        0.00000\n",
    "# N          3.65481        1.87305       -0.00480\n",
    "# C          2.38646        0.12104       -0.00500\n",
    "# N          1.24110       -0.63754       -0.00365\n",
    "# N          3.66420       -0.35109       -0.00778\n",
    "# C          0.00000        0.00000        0.00000\n",
    "# O         -1.05949       -0.63408        0.00333\n",
    "# C         -1.30072        2.05116        0.00361\n",
    "# C          1.32846       -2.08635       -0.00430\n",
    "# H         -1.84850        1.73732        0.89829\n",
    "# H         -1.86170        1.72312       -0.87769\n",
    "# H         -1.23294        3.14176       -0.00582\n",
    "# H          1.87131       -2.41138       -0.89754\n",
    "# H          0.34073       -2.55462       -0.00693\n",
    "# H          1.86704       -2.41210        0.89126\n",
    "# C          4.41443        0.73303       -0.00765\n",
    "# C          4.15051        3.22594       -0.00368\n",
    "# H          3.78631        3.73087       -0.90182\n",
    "# H          5.24349        3.21375       -0.00572\n",
    "# H          3.78964        3.72816        0.89731\n",
    "# H          5.49723        0.74732       -0.00947\n",
    "# '''\n",
    "# spin = 0\n",
    "\n",
    "# build the molecule and set the verbosity level\n",
    "mol = gto.M(atom    = geometry.format(-0.5 * bond_length, 0.5 * bond_length),\n",
    "            basis   = basis,\n",
    "            spin    = spin,\n",
    "            verbose = 0)\n",
    "\n",
    "# run the HF calculations\n",
    "start_time = time.time()\n",
    "hf_calc = scf.UHF(mol)\n",
    "res = hf_calc.scf()\n",
    "elapsed_time = time.time() - start_time\n",
    "print('{:32s}: {:.4f} Ha ({:.2f} seconds)'.format('HF energy', res, elapsed_time))\n",
    "\n",
    "# run the FCI calculations\n",
    "start_time = time.time()\n",
    "hf_calc = scf.RHF(mol) # we cheat a bit here because the pyscf CI solver only accepts RHF\n",
    "hf_calc.kernel()\n",
    "ci_calc = fci.FCI(mol, hf_calc.mo_coeff)\n",
    "res = ci_calc.kernel()\n",
    "res = res[0] # extract the ground state energy\n",
    "elapsed_time = time.time() - start_time\n",
    "print('{:32s}: {:.4f} Ha ({:.2f} seconds)'.format('Full CI energy', res, elapsed_time))\n",
    "\n",
    "#run DFT calculations\n",
    "for functional in ['LDA', 'PBE', 'HSE06', 'BLYP', 'B3LYP']:\n",
    "    start_time = time.time()\n",
    "    dft_calc = dft.KS(mol)\n",
    "    dft_calc.xc = functional\n",
    "    res = dft_calc.kernel()\n",
    "    elapsed_time = time.time() - start_time\n",
    "    print('{:32s}: {:.4f} Ha ({:.2f} seconds)'.format('{} energy'.format(functional), res, elapsed_time))"
   ]
  }
 ],
 "metadata": {
  "kernelspec": {
   "display_name": "Python 3",
   "language": "python",
   "name": "python3"
  },
  "language_info": {
   "codemirror_mode": {
    "name": "ipython",
    "version": 3
   },
   "file_extension": ".py",
   "mimetype": "text/x-python",
   "name": "python",
   "nbconvert_exporter": "python",
   "pygments_lexer": "ipython3",
   "version": "3.7.4"
  }
 },
 "nbformat": 4,
 "nbformat_minor": 2
}
