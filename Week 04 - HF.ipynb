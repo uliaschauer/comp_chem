{
 "cells": [
  {
   "cell_type": "code",
   "execution_count": null,
   "metadata": {
    "scrolled": false
   },
   "outputs": [],
   "source": [
    "from pyscf import gto\n",
    "\n",
    "#build molecule\n",
    "mol = gto.Mole()\n",
    "mol.atom = '''\n",
    "C          2.09224        1.20795       -0.00000\n",
    "C          1.39483        0.00000       -0.00000\n",
    "C          0.00000        0.00000        0.00000\n",
    "C         -0.69741        1.20795       -0.00000\n",
    "C         -0.00000        2.41591        0.00000\n",
    "C          1.39483        2.41591        0.00000\n",
    "H          1.93819       -0.94114       -0.00000\n",
    "H         -0.54337       -0.94114        0.00000\n",
    "H         -1.78414        1.20795       -0.00000\n",
    "H         -0.54337        3.35705        0.00000\n",
    "H          1.93819        3.35705        0.00000\n",
    "H          3.17897        1.20795       -0.00000\n",
    "'''\n",
    "mol.charge = 0\n",
    "mol.spin = mol.nelectron % 2 #create singlet or doublet\n",
    "mol.basis = 'STO-3G'\n",
    "mol.build()\n",
    "\n",
    "#extract molecule info\n",
    "print('Number of electrons:                         {}'.format(mol.nelectron))\n",
    "print('Number of Gauss type atomic orbitals (GTOs): {}'.format(mol.nao_nr()))\n",
    "print('Number of Gaussian primitives (GFs):         {}'.format(mol.npgto_nr()))\n",
    "\n",
    "hf = mol.RHF(verbose=10)\n",
    "hf.kernel()\n",
    "#hf.analyze()"
   ]
  },
  {
   "cell_type": "code",
   "execution_count": null,
   "metadata": {},
   "outputs": [],
   "source": []
  }
 ],
 "metadata": {
  "kernelspec": {
   "display_name": "Python 3",
   "language": "python",
   "name": "python3"
  },
  "language_info": {
   "codemirror_mode": {
    "name": "ipython",
    "version": 3
   },
   "file_extension": ".py",
   "mimetype": "text/x-python",
   "name": "python",
   "nbconvert_exporter": "python",
   "pygments_lexer": "ipython3",
   "version": "3.7.4"
  }
 },
 "nbformat": 4,
 "nbformat_minor": 2
}
