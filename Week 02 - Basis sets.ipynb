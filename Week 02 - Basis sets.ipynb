{
 "cells": [
  {
   "cell_type": "code",
   "execution_count": 36,
   "metadata": {},
   "outputs": [
    {
     "name": "stdout",
     "output_type": "stream",
     "text": [
      "Number of electrons:                         1\n",
      "Number of Gauss type atomic orbitals (GTOs): 1\n",
      "Number of Gaussian primitives (GFs):         3\n",
      "GTO 1: H 1s\n",
      "    Formed by contraction of\n"
     ]
    }
   ],
   "source": [
    "from pyscf import gto, scf, ao2mo\n",
    "\n",
    "#change input here\n",
    "element='H'\n",
    "basis_set='STO-3G'\n",
    "\n",
    "#build molecule\n",
    "mol = gto.Mole()\n",
    "mol.atom = [[element, (0, 0, 0)]]\n",
    "mol.spin = mol.nelectron % 2 #create singlet or doublet\n",
    "mol.basis = basis_set\n",
    "mol.build()\n",
    "\n",
    "#extract basis set info\n",
    "labels = gto.ao_labels(mol, False)\n",
    "print('Number of electrons:                         {}'.format(mol.nelectron))\n",
    "print(\"Number of Gauss type atomic orbitals (GTOs): {}\".format(mol.nao_nr()))\n",
    "print(\"Number of Gaussian primitives (GFs):         {}\".format(mol.npgto_nr()))\n",
    "for ao_index in range(mol.nao_nr()):\n",
    "    print('GTO {}: {} {}'.format(ao_index+1, labels[ao_index][1], labels[ao_index][2]))\n",
    "    print('    Formed by contraction of')"
   ]
  },
  {
   "cell_type": "code",
   "execution_count": null,
   "metadata": {},
   "outputs": [],
   "source": []
  }
 ],
 "metadata": {
  "kernelspec": {
   "display_name": "Python 3",
   "language": "python",
   "name": "python3"
  },
  "language_info": {
   "codemirror_mode": {
    "name": "ipython",
    "version": 3
   },
   "file_extension": ".py",
   "mimetype": "text/x-python",
   "name": "python",
   "nbconvert_exporter": "python",
   "pygments_lexer": "ipython3",
   "version": "3.7.4"
  }
 },
 "nbformat": 4,
 "nbformat_minor": 2
}
