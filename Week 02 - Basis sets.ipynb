{
 "cells": [
  {
   "cell_type": "code",
   "execution_count": 6,
   "metadata": {
    "scrolled": false
   },
   "outputs": [
    {
     "name": "stdout",
     "output_type": "stream",
     "text": [
      "Number of electrons:                         1\n",
      "Number of Gauss type atomic orbitals (GTOs): 1\n",
      "Number of Gaussian primitives (GFs):         3\n",
      "\n",
      "Included atomic orbitals:\n",
      "   H 1s\n",
      "\n",
      "Radial basis functions (only one given per angular momentum (i.e. px=py=pz))\n",
      "\n",
      "Radial basis 1 with angular momentum l=0 formed by contraction of 3 GFs\n",
      "    GF | Exponent     | Contraction coefficient\n",
      "–––––––+––––––––––––––+––––––––––––––––––––––––\n",
      "     1 |   3.42525091 |   0.15432897\n",
      "     2 |   0.62391373 |   0.53532814\n",
      "     3 |   0.16885540 |   0.44463454\n"
     ]
    }
   ],
   "source": [
    "from pyscf import gto, scf, ao2mo\n",
    "import numpy as np\n",
    "import matplotlib.pyplot as plt\n",
    "from scipy.stats import norm\n",
    "\n",
    "#change input here\n",
    "element='H'\n",
    "basis_set='STO-3G'\n",
    "\n",
    "#build molecule\n",
    "mol = gto.Mole()\n",
    "mol.atom = [[element, (0, 0, 0)]]\n",
    "mol.spin = mol.nelectron % 2 #create singlet or doublet\n",
    "mol.basis = basis_set\n",
    "mol.build()\n",
    "\n",
    "#extract basis set info\n",
    "labels = gto.ao_labels(mol, False)\n",
    "print('Number of electrons:                         {}'.format(mol.nelectron))\n",
    "print('Number of Gauss type atomic orbitals (GTOs): {}'.format(mol.nao_nr()))\n",
    "print('Number of Gaussian primitives (GFs):         {}'.format(mol.npgto_nr()))\n",
    "print()\n",
    "print('Included atomic orbitals:')\n",
    "for i in gto.ao_labels(mol, False):\n",
    "    print('   {} {}{}'.format(i[1], i[2], i[3]))\n",
    "print()\n",
    "print('Radial basis functions (only one given per angular momentum (i.e. px=py=pz))')\n",
    "for i in range(mol.nbas):\n",
    "    print()\n",
    "    print('Radial basis {} with angular momentum l={} formed by contraction of {} GFs'.format(i+1, \n",
    "                                                                                     mol.bas_angular(i),\n",
    "                                                                                     mol.bas_nprim(i)))\n",
    "        \n",
    "    print('    GF | Exponent     | Contraction coefficient')\n",
    "    print('–––––––+––––––––––––––+––––––––––––––––––––––––')\n",
    "    for j in range(mol.bas_nprim(i)):\n",
    "        print('    {0:2d} | {1:12.8f} | {2:12.8f}'.format(j+1, mol.bas_exp(i)[j], mol.bas_ctr_coeff(i)[j][0]))"
   ]
  },
  {
   "cell_type": "code",
   "execution_count": null,
   "metadata": {},
   "outputs": [],
   "source": []
  }
 ],
 "metadata": {
  "kernelspec": {
   "display_name": "Python 3",
   "language": "python",
   "name": "python3"
  },
  "language_info": {
   "codemirror_mode": {
    "name": "ipython",
    "version": 3
   },
   "file_extension": ".py",
   "mimetype": "text/x-python",
   "name": "python",
   "nbconvert_exporter": "python",
   "pygments_lexer": "ipython3",
   "version": "3.7.4"
  }
 },
 "nbformat": 4,
 "nbformat_minor": 2
}
